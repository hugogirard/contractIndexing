{
 "cells": [
  {
   "cell_type": "code",
   "execution_count": null,
   "id": "3de7f872",
   "metadata": {},
   "outputs": [],
   "source": [
    "%pip install -r requirements.txt"
   ]
  },
  {
   "cell_type": "code",
   "execution_count": null,
   "id": "db2081c6",
   "metadata": {},
   "outputs": [],
   "source": [
    "from dotenv import load_dotenv\n",
    "from azure.core.credentials import AzureKeyCredential\n",
    "from azure.ai.documentintelligence.aio import DocumentIntelligenceClient\n",
    "from azure.ai.documentintelligence.models import AnalyzeResult, AnalyzeDocumentRequest\n",
    "from azure.storage.blob.aio import BlobServiceClient, BlobClient, ContainerClient\n",
    "from azure.identity.aio import DefaultAzureCredential\n",
    "import os"
   ]
  },
  {
   "cell_type": "code",
   "execution_count": null,
   "id": "7c8caa19",
   "metadata": {},
   "outputs": [],
   "source": [
    "load_dotenv(override=True)\n",
    "\n",
    "doc_endpoint = os.getenv('DOC_ENDPOINT')\n",
    "doc_key = os.getenv('DOC_API_KEY')\n",
    "\n",
    "blob_account_url = os.getenv('BLOB_ACCOUNT_URL')\n",
    "container_name = os.getenv('CONTAINER_NAME')\n",
    "\n",
    "file_name = \"contract_001_Fourth_Coffee_20250310.pdf\""
   ]
  },
  {
   "cell_type": "code",
   "execution_count": 29,
   "id": "3db711c1",
   "metadata": {},
   "outputs": [],
   "source": [
    "from pydantic import BaseModel, Field\n",
    "from typing import Optional, List\n",
    "\n",
    "class Jurisdiction(BaseModel):\n",
    "    region:Optional[str] = None\n",
    "    clause:Optional[str] = None\n",
    "\n",
    "# Extracted from Document Intelligence\n",
    "class ContractFields(BaseModel):\n",
    "    doc_type:Optional[str] = Field(default=None,alias=\"docType\")\n",
    "    title:Optional[str] = None\n",
    "    effective_date:Optional[str] = Field(default=None,alias=\"effectiveDate\")\n",
    "    parties:List[str] = []\n",
    "    jurisdictions:List[str] = []\n",
    "\n",
    "class Message(BaseModel):\n",
    "    message:str\n",
    "\n",
    "class Contract(BaseModel):\n",
    "    record_id:str = Field(default=None, alias=\"recordId\")\n",
    "    data:ContractFields\n",
    "    errors:Optional[Message] = None\n",
    "    warnings:Optional[Message] = None\n",
    "\n",
    "class DocumentOutput(BaseModel):\n",
    "    values: List[Contract]    "
   ]
  },
  {
   "cell_type": "code",
   "execution_count": null,
   "id": "3583b858",
   "metadata": {},
   "outputs": [],
   "source": [
    "doc_client = DocumentIntelligenceClient(\n",
    "    endpoint=doc_endpoint,\n",
    "    credential=AzureKeyCredential(doc_key)\n",
    ")"
   ]
  },
  {
   "cell_type": "code",
   "execution_count": null,
   "id": "b31b4636",
   "metadata": {},
   "outputs": [],
   "source": [
    "blob = BlobClient(\n",
    "            account_url=blob_account_url,\n",
    "            container_name=container_name,\n",
    "            blob_name=file_name,\n",
    "            credential=DefaultAzureCredential()\n",
    "       )"
   ]
  },
  {
   "cell_type": "code",
   "execution_count": null,
   "id": "0c30836b",
   "metadata": {},
   "outputs": [],
   "source": [
    "print(blob.url)"
   ]
  },
  {
   "cell_type": "code",
   "execution_count": null,
   "id": "00b9f507",
   "metadata": {},
   "outputs": [],
   "source": [
    "poller = await doc_client.begin_analyze_document(\n",
    "    model_id=\"prebuilt-contract\",\n",
    "    body=AnalyzeDocumentRequest(url_source=blob.url)\n",
    "    #query_fields=[]  # Todo\n",
    ")"
   ]
  },
  {
   "cell_type": "code",
   "execution_count": null,
   "id": "95b3d353",
   "metadata": {},
   "outputs": [],
   "source": [
    "contract = await poller.result()"
   ]
  },
  {
   "cell_type": "code",
   "execution_count": null,
   "id": "63cf441b",
   "metadata": {},
   "outputs": [],
   "source": [
    "print(contract)"
   ]
  },
  {
   "cell_type": "code",
   "execution_count": 40,
   "id": "4aa10624",
   "metadata": {},
   "outputs": [],
   "source": [
    "contract_fields:ContractFields = ContractFields()\n",
    "\n",
    "doc = contract.documents[0]\n",
    "\n",
    "if doc.doc_type:\n",
    "    contract_fields.doc_type = doc.doc_type\n",
    "\n",
    "title = doc.fields.get(\"Title\")\n",
    "if title:\n",
    "    contract_fields.title = title.value_string\n",
    "\n",
    "effective_date = doc.fields.get(\"EffectiveDate\")\n",
    "if effective_date:\n",
    "    contract_fields.effective_date = effective_date.value_string\n",
    "\n",
    "parties = doc.fields.get(\"Parties\")\n",
    "if parties:\n",
    "    contract_parties:List[str] = []\n",
    "    for party_idx, party in enumerate(parties.value_array):\n",
    "        contract_parties.append(party.value_string)\n",
    "    contract_fields.parties = contract_parties\n",
    "\n",
    "jurisdictions = doc.fields.get(\"Jurisdictions\")\n",
    "if jurisdictions:\n",
    "    contract_jurisdictions:List[Jurisdiction] = []\n",
    "    for jurisdiction_idx, jurisdiction in enumerate(jurisdictions.value_array):\n",
    "        \n",
    "        contract_jurisdiction = Jurisdiction()\n",
    "        \n",
    "        region = jurisdiction.value_object.get(\"Region\")\n",
    "        if region:\n",
    "            contract_jurisdiction.region = region.value_string\n",
    "\n",
    "        clause = jurisdiction.value_object.get(\"Clause\")\n",
    "        if clause:\n",
    "            contract_jurisdiction.clause = clause.value_string\n",
    "        \n",
    "        contract_jurisdictions.append(contract_jurisdiction)\n",
    "    \n",
    "    contract_fields.jurisdictions = contract_jurisdictions"
   ]
  },
  {
   "cell_type": "code",
   "execution_count": null,
   "id": "03e879da",
   "metadata": {},
   "outputs": [],
   "source": [
    "print(contract_fields)"
   ]
  },
  {
   "cell_type": "code",
   "execution_count": 33,
   "id": "47c4f610",
   "metadata": {},
   "outputs": [],
   "source": [
    "document_output = DocumentOutput(values=[])\n",
    "document_output.values.append(contract_fields)"
   ]
  },
  {
   "cell_type": "code",
   "execution_count": 34,
   "id": "20486a64",
   "metadata": {},
   "outputs": [
    {
     "data": {
      "text/plain": [
       "'{\\n    \"values\": [\\n        {}\\n    ]\\n}'"
      ]
     },
     "execution_count": 34,
     "metadata": {},
     "output_type": "execute_result"
    }
   ],
   "source": [
    "document_output.model_dump_json(indent=4)"
   ]
  }
 ],
 "metadata": {
  "kernelspec": {
   "display_name": ".venv",
   "language": "python",
   "name": "python3"
  },
  "language_info": {
   "codemirror_mode": {
    "name": "ipython",
    "version": 3
   },
   "file_extension": ".py",
   "mimetype": "text/x-python",
   "name": "python",
   "nbconvert_exporter": "python",
   "pygments_lexer": "ipython3",
   "version": "3.12.8"
  }
 },
 "nbformat": 4,
 "nbformat_minor": 5
}
